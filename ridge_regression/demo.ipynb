{
 "cells": [
  {
   "cell_type": "code",
   "execution_count": 1,
   "metadata": {},
   "outputs": [],
   "source": [
    "from trusted_authority import TrustedAuthority\n",
    "from company import Company\n",
    "from central_analyzer import CentralAnalyzer\n",
    "from utils import save_model, predict_salary"
   ]
  },
  {
   "cell_type": "code",
   "execution_count": 2,
   "metadata": {},
   "outputs": [
    {
     "name": "stdout",
     "output_type": "stream",
     "text": [
      "\n",
      "=== Step 1: Initializing Trusted Authority and Generating Encryption Context ===\n",
      "Trusted Authority has generated encryption keys and shared the public context with all companies.\n"
     ]
    }
   ],
   "source": [
    "# Step 1: Initialize Trusted Authority\n",
    "print(\"\\n=== Step 1: Initializing Trusted Authority and Generating Encryption Context ===\")\n",
    "trusted_authority = TrustedAuthority(lambda_ridge=10.0)\n",
    "public_context = trusted_authority.get_public_context()\n",
    "print(\"Trusted Authority has generated encryption keys and shared the public context with all companies.\")"
   ]
  },
  {
   "cell_type": "code",
   "execution_count": 3,
   "metadata": {},
   "outputs": [
    {
     "name": "stdout",
     "output_type": "stream",
     "text": [
      "\n",
      "=== Step 2: Initializing Central Analyzer ===\n",
      "Central Analyzer is ready to receive encrypted data.\n",
      "\n",
      "=== Step 3: Companies Load Data ===\n",
      "\n",
      "Loading data for Accenture...\n",
      "Data loaded successfully for Accenture\n",
      "Number of records: 180\n",
      "Converting salary data for Accenture...\n",
      "\n",
      "Loading data for GovTech...\n",
      "Data loaded successfully for GovTech\n",
      "Number of records: 180\n",
      "Converting salary data for GovTech...\n",
      "\n",
      "Loading data for Tiktok...\n",
      "Data loaded successfully for Tiktok\n",
      "Number of records: 180\n",
      "Converting salary data for Tiktok...\n",
      "All companies have loaded their data.\n"
     ]
    }
   ],
   "source": [
    "# Step 2: Initialize Central Analyzer\n",
    "print(\"\\n=== Step 2: Initializing Central Analyzer ===\")\n",
    "central_analyzer = CentralAnalyzer(public_context)\n",
    "print(\"Central Analyzer is ready to receive encrypted data.\")\n",
    "\n",
    "# Step 3: Companies Load Data\n",
    "print(\"\\n=== Step 3: Companies Load Data ===\")\n",
    "companies = {\n",
    "    'Accenture': Company('Accenture', 'data/accenture_employee_salary_data.csv', public_context),\n",
    "    'GovTech': Company('GovTech', 'data/govtech_employee_salary_data.csv', public_context),\n",
    "    'Tiktok': Company('Tiktok', 'data/tiktok_employee_salary_data.csv', public_context)\n",
    "}\n",
    "print(\"All companies have loaded their data.\")"
   ]
  },
  {
   "cell_type": "code",
   "execution_count": 4,
   "metadata": {},
   "outputs": [
    {
     "name": "stdout",
     "output_type": "stream",
     "text": [
      "\n",
      "=== Step 4: Companies Compute Data Summaries for Global Scaling ===\n",
      "Accenture is computing data summaries for global scaling without sharing raw data.\n",
      "GovTech is computing data summaries for global scaling without sharing raw data.\n",
      "Tiktok is computing data summaries for global scaling without sharing raw data.\n"
     ]
    }
   ],
   "source": [
    "# Step 4: Companies Compute Data Summaries for Global Scaling\n",
    "print(\"\\n=== Step 4: Companies Compute Data Summaries for Global Scaling ===\")\n",
    "company_summaries = {}\n",
    "for company_name, company in companies.items():\n",
    "    print(f\"{company_name} is computing data summaries for global scaling without sharing raw data.\")\n",
    "    summaries = company.compute_data_summary()\n",
    "    company_summaries[company_name] = summaries"
   ]
  },
  {
   "cell_type": "code",
   "execution_count": 5,
   "metadata": {},
   "outputs": [
    {
     "name": "stdout",
     "output_type": "stream",
     "text": [
      "\n",
      "=== Step 5: Trusted Authority Computes Global Scaling Parameters ===\n",
      "\n",
      "=== Computing Global Scaling Parameters with Improved Bounds ===\n",
      "Role: SOFTWARE ENGINEER, Feature: Age, Min: 21.0000, Max: 29.0000\n",
      "Role: SOFTWARE ENGINEER, Feature: Years_of_Experience, Min: 0.0000, Max: 4.0000\n",
      "Role: SOFTWARE ENGINEER, Feature: Years_of_Tenure, Min: 0.0000, Max: 2.0000\n",
      "Role: SOFTWARE ENGINEER, Feature: Salary, Min: 3647.9700, Max: 12600.0000\n",
      "Role: DATA SCIENTIST, Feature: Age, Min: 21.0000, Max: 29.0000\n",
      "Role: DATA SCIENTIST, Feature: Years_of_Experience, Min: 0.0000, Max: 4.0000\n",
      "Role: DATA SCIENTIST, Feature: Years_of_Tenure, Min: 0.0000, Max: 2.0000\n",
      "Role: DATA SCIENTIST, Feature: Salary, Min: 4512.5000, Max: 11550.0000\n",
      "Role: PRODUCT MANAGER, Feature: Age, Min: 21.0000, Max: 29.0000\n",
      "Role: PRODUCT MANAGER, Feature: Years_of_Experience, Min: 0.0000, Max: 4.0000\n",
      "Role: PRODUCT MANAGER, Feature: Years_of_Tenure, Min: 0.0000, Max: 2.0000\n",
      "Role: PRODUCT MANAGER, Feature: Salary, Min: 6654.1100, Max: 12600.0000\n",
      "Improved global scaling parameters computed successfully.\n",
      "Global scaling parameters have been computed and distributed to companies.\n"
     ]
    }
   ],
   "source": [
    "# Step 5: Trusted Authority Computes Global Scaling Parameters\n",
    "print(\"\\n=== Step 5: Trusted Authority Computes Global Scaling Parameters ===\")\n",
    "trusted_authority.compute_global_scaling(company_summaries)\n",
    "print(\"Global scaling parameters have been computed and distributed to companies.\")"
   ]
  },
  {
   "cell_type": "code",
   "execution_count": 6,
   "metadata": {},
   "outputs": [
    {
     "name": "stdout",
     "output_type": "stream",
     "text": [
      "\n",
      "=== Step 6: Companies Encrypt Data and Send to Central Analyzer ===\n",
      "Accenture received global scaling parameters.\n",
      "Accenture encrypts data for all roles and sends to Central Analyzer.\n",
      "Received data from Accenture for role SOFTWARE ENGINEER\n",
      "Received data from Accenture for role DATA SCIENTIST\n",
      "Received data from Accenture for role PRODUCT MANAGER\n",
      "GovTech received global scaling parameters.\n",
      "GovTech encrypts data for all roles and sends to Central Analyzer.\n",
      "Received data from GovTech for role SOFTWARE ENGINEER\n",
      "Received data from GovTech for role DATA SCIENTIST\n",
      "Received data from GovTech for role PRODUCT MANAGER\n",
      "Tiktok received global scaling parameters.\n",
      "Tiktok encrypts data for all roles and sends to Central Analyzer.\n",
      "Received data from Tiktok for role SOFTWARE ENGINEER\n",
      "Received data from Tiktok for role DATA SCIENTIST\n",
      "Received data from Tiktok for role PRODUCT MANAGER\n",
      "All companies have sent encrypted data to Central Analyzer.\n"
     ]
    }
   ],
   "source": [
    "# Step 6: Companies Encrypt Data and Send to Central Analyzer\n",
    "print(\"\\n=== Step 6: Companies Encrypt Data and Send to Central Analyzer ===\")\n",
    "for company_name, company in companies.items():\n",
    "    company.set_global_scaling(trusted_authority.distribute_scaling_parameters())\n",
    "    print(f\"{company_name} encrypts data for all roles and sends to Central Analyzer.\")\n",
    "    for role in company.roles:\n",
    "        encrypted_data = company.encrypt_data_by_role(role)\n",
    "        central_analyzer.receive_company_data(company_name, role, encrypted_data)\n",
    "print(\"All companies have sent encrypted data to Central Analyzer.\")\n"
   ]
  },
  {
   "cell_type": "code",
   "execution_count": 7,
   "metadata": {},
   "outputs": [
    {
     "name": "stdout",
     "output_type": "stream",
     "text": [
      "\n",
      "=== Step 7: Central Analyzer Aggregates Encrypted Data Without Decryption ===\n",
      "Central Analyzer aggregates the encrypted data for each role without accessing raw data, preserving data privacy through FHE.\n"
     ]
    }
   ],
   "source": [
    "# Step 7: Central Analyzer Aggregates Encrypted Data Without Decryption\n",
    "print(\"\\n=== Step 7: Central Analyzer Aggregates Encrypted Data Without Decryption ===\")\n",
    "print(\"Central Analyzer aggregates the encrypted data for each role without accessing raw data, preserving data privacy through FHE.\")"
   ]
  },
  {
   "cell_type": "code",
   "execution_count": 8,
   "metadata": {},
   "outputs": [
    {
     "name": "stdout",
     "output_type": "stream",
     "text": [
      "\n",
      "=== Step 8: Trusted Authority Decrypts Data and Trains the Model ===\n",
      "\n",
      "Processing role: SOFTWARE ENGINEER\n",
      "\n",
      "Aggregating data for role: SOFTWARE ENGINEER\n",
      "Number of companies contributing: 3\n",
      "Model coefficients for role SOFTWARE ENGINEER have been computed using encrypted data.\n",
      "\n",
      "=== Model Coefficients for Role: SOFTWARE ENGINEER ===\n",
      "Age: 0.1080\n",
      "Years_of_Experience: 0.1019\n",
      "Years_of_Tenure: 0.0329\n",
      "experience_ratio: 0.5366\n",
      "Gender_Male: 0.0549\n",
      "Education_Level_Bachelor's: 0.1159\n",
      "Education_Level_Master's: 0.1007\n",
      "Model saved for role: SOFTWARE ENGINEER\n",
      "\n",
      "Processing role: DATA SCIENTIST\n",
      "\n",
      "Aggregating data for role: DATA SCIENTIST\n",
      "Number of companies contributing: 3\n",
      "Model coefficients for role DATA SCIENTIST have been computed using encrypted data.\n",
      "\n",
      "=== Model Coefficients for Role: DATA SCIENTIST ===\n",
      "Age: 0.1007\n",
      "Years_of_Experience: 0.1463\n",
      "Years_of_Tenure: 0.0459\n",
      "experience_ratio: 0.4173\n",
      "Gender_Male: 0.1394\n",
      "Education_Level_Bachelor's: 0.3159\n",
      "Education_Level_Master's: 0.3250\n",
      "Model saved for role: DATA SCIENTIST\n",
      "\n",
      "Processing role: PRODUCT MANAGER\n",
      "\n",
      "Aggregating data for role: PRODUCT MANAGER\n",
      "Number of companies contributing: 3\n",
      "Model coefficients for role PRODUCT MANAGER have been computed using encrypted data.\n",
      "\n",
      "=== Model Coefficients for Role: PRODUCT MANAGER ===\n",
      "Age: 0.1108\n",
      "Years_of_Experience: 0.1448\n",
      "Years_of_Tenure: 0.0580\n",
      "experience_ratio: 0.1499\n",
      "Gender_Male: 0.1364\n",
      "Education_Level_Bachelor's: 0.2089\n",
      "Education_Level_Master's: 0.2194\n",
      "Model saved for role: PRODUCT MANAGER\n"
     ]
    }
   ],
   "source": [
    "# Step 8: Trusted Authority Decrypts Data and Trains the Model\n",
    "print(\"\\n=== Step 8: Trusted Authority Decrypts Data and Trains the Model ===\")\n",
    "for role in central_analyzer.role_data.keys():\n",
    "    print(f\"\\nProcessing role: {role}\")\n",
    "    encrypted_result, scaler_info, salary_scaler = central_analyzer.aggregate_encrypted_data_by_role(role)\n",
    "    coefficients, feature_names = trusted_authority.decrypt_and_train(encrypted_result)\n",
    "    print(f\"Model coefficients for role {role} have been computed using encrypted data.\")\n",
    "\n",
    "    # Display coefficients\n",
    "    print(f\"\\n=== Model Coefficients for Role: {role} ===\")\n",
    "    for feature, coef in zip(feature_names, coefficients):\n",
    "        print(f\"{feature}: {coef:.4f}\")\n",
    "    save_model(role, coefficients, feature_names, scaler_info, salary_scaler)"
   ]
  },
  {
   "cell_type": "code",
   "execution_count": 9,
   "metadata": {},
   "outputs": [
    {
     "name": "stdout",
     "output_type": "stream",
     "text": [
      "\n",
      "=== Step 9: Making Predictions with the Trained Models ===\n",
      "Predicted salary for role SOFTWARE ENGINEER: $4,010.43\n",
      "Predicted salary for role DATA SCIENTIST: $4,778.16\n",
      "Predicted salary for role PRODUCT MANAGER: $6,901.18\n",
      "\n",
      "Process completed successfully. All models have been trained using encrypted data, preserving the privacy of each company's information.\n"
     ]
    }
   ],
   "source": [
    "# Step 9: Make Predictions\n",
    "print(\"\\n=== Step 9: Making Predictions with the Trained Models ===\")\n",
    "test_input = {\n",
    "    'Age': 24,\n",
    "    'Years_of_Experience': 0,\n",
    "    'Years_of_Tenure': 0,\n",
    "    'Gender_Male': 0,\n",
    "    'Education_Level_Bachelor\\'s': 0,\n",
    "    'Education_Level_Master\\'s': 0\n",
    "}\n",
    "for role in central_analyzer.role_data.keys():\n",
    "    predicted_salary = predict_salary(role, test_input.copy())\n",
    "    if predicted_salary is not None:\n",
    "        print(f\"Predicted salary for role {role}: ${predicted_salary:,.2f}\")\n",
    "\n",
    "print(\"\\nProcess completed successfully. All models have been trained using encrypted data, preserving the privacy of each company's information.\")"
   ]
  }
 ],
 "metadata": {
  "kernelspec": {
   "display_name": "Python 3",
   "language": "python",
   "name": "python3"
  },
  "language_info": {
   "codemirror_mode": {
    "name": "ipython",
    "version": 3
   },
   "file_extension": ".py",
   "mimetype": "text/x-python",
   "name": "python",
   "nbconvert_exporter": "python",
   "pygments_lexer": "ipython3",
   "version": "3.11.1"
  }
 },
 "nbformat": 4,
 "nbformat_minor": 2
}
