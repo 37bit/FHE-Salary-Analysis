{
 "cells": [
  {
   "cell_type": "code",
   "execution_count": 1,
   "metadata": {},
   "outputs": [],
   "source": [
    "import tenseal as ts\n",
    "import utils"
   ]
  },
  {
   "cell_type": "markdown",
   "metadata": {},
   "source": [
    "### Generate Keys"
   ]
  },
  {
   "cell_type": "code",
   "execution_count": 2,
   "metadata": {},
   "outputs": [],
   "source": [
    "context = ts.context(\n",
    "    ts.SCHEME_TYPE.CKKS,\n",
    "    poly_modulus_degree=8192,\n",
    "    coeff_mod_bit_sizes = [60, 40, 40, 60]\n",
    ")"
   ]
  },
  {
   "cell_type": "code",
   "execution_count": 3,
   "metadata": {},
   "outputs": [
    {
     "name": "stdout",
     "output_type": "stream",
     "text": [
      "Keys successful generated!\n"
     ]
    }
   ],
   "source": [
    "context.generate_galois_keys()\n",
    "context.global_scale = 2**40\n",
    "print('Keys successful generated!')"
   ]
  },
  {
   "cell_type": "code",
   "execution_count": 4,
   "metadata": {},
   "outputs": [
    {
     "name": "stdout",
     "output_type": "stream",
     "text": [
      "Secret key successful written!\n"
     ]
    }
   ],
   "source": [
    "secret_context = context.serialize(save_secret_key=True)\n",
    "utils.write_data('keys/secret.txt', secret_context)\n",
    "print('Secret key successful written!')"
   ]
  },
  {
   "cell_type": "code",
   "execution_count": 5,
   "metadata": {},
   "outputs": [
    {
     "name": "stdout",
     "output_type": "stream",
     "text": [
      "Public key successful written!\n"
     ]
    }
   ],
   "source": [
    "context.make_context_public()\n",
    "public_context = context.serialize()\n",
    "utils.write_data('keys/public.txt', public_context)\n",
    "print('Public key successful written!')"
   ]
  },
  {
   "cell_type": "markdown",
   "metadata": {},
   "source": [
    "### Encrypt"
   ]
  },
  {
   "cell_type": "code",
   "execution_count": 6,
   "metadata": {},
   "outputs": [],
   "source": [
    "context = ts.context_from(utils.read_data('keys/secret.txt'))"
   ]
  },
  {
   "cell_type": "code",
   "execution_count": 7,
   "metadata": {},
   "outputs": [],
   "source": [
    "salary = [1000]\n",
    "salary_encrypted = ts.ckks_vector(context, salary)"
   ]
  },
  {
   "cell_type": "code",
   "execution_count": 8,
   "metadata": {},
   "outputs": [],
   "source": [
    "utils.write_data('outputs/salary_encrypted.txt', salary_encrypted.serialize())\n",
    "print('Encrypted salary successfully written to file')"
   ]
  },
  {
   "cell_type": "markdown",
   "metadata": {},
   "source": [
    "### Decrypt\n",
    "\n",
    "Done after the DataOperator runs the homomorphic calculations on the encrypted salary data."
   ]
  },
  {
   "cell_type": "code",
   "execution_count": 9,
   "metadata": {},
   "outputs": [],
   "source": [
    "context = ts.context_from(utils.read_data('keys/secret.txt'))"
   ]
  },
  {
   "cell_type": "code",
   "execution_count": 11,
   "metadata": {},
   "outputs": [],
   "source": [
    "salary_new_encrypted = ts.lazy_ckks_vector_from(utils.read_data('outputs/salary_new_encrypted.txt'))\n",
    "salary_new_encrypted.link_context(context)"
   ]
  },
  {
   "cell_type": "code",
   "execution_count": 13,
   "metadata": {},
   "outputs": [
    {
     "name": "stdout",
     "output_type": "stream",
     "text": [
      "1200.0\n"
     ]
    }
   ],
   "source": [
    "salary_new_decrypted = round(salary_new_encrypted.decrypt()[0], 2)\n",
    "print('Decrypted new salary: ', salary_new_decrypted)"
   ]
  },
  {
   "cell_type": "code",
   "execution_count": null,
   "metadata": {},
   "outputs": [],
   "source": [
    "with open('outputs/salary_new_decrypted.txt') as f:\n",
    "    f.write(salary_new_decrypted)\n",
    "print('Decrypted new salary successfully written to file')"
   ]
  }
 ],
 "metadata": {
  "kernelspec": {
   "display_name": "Python 3",
   "language": "python",
   "name": "python3"
  },
  "language_info": {
   "codemirror_mode": {
    "name": "ipython",
    "version": 3
   },
   "file_extension": ".py",
   "mimetype": "text/x-python",
   "name": "python",
   "nbconvert_exporter": "python",
   "pygments_lexer": "ipython3",
   "version": "3.12.5"
  }
 },
 "nbformat": 4,
 "nbformat_minor": 2
}
